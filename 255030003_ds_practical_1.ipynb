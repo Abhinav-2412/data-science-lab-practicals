{
  "cells": [
    {
      "cell_type": "code",
      "execution_count": 1,
      "metadata": {
        "colab": {
          "base_uri": "https://localhost:8080/"
        },
        "id": "nwaa0wcvuIzD",
        "outputId": "9e30fd6b-693a-4c9c-aa16-0c2c27551825"
      },
      "outputs": [
        {
          "ename": "ModuleNotFoundError",
          "evalue": "No module named 'numpy'",
          "output_type": "error",
          "traceback": [
            "\u001b[31m---------------------------------------------------------------------------\u001b[39m",
            "\u001b[31mModuleNotFoundError\u001b[39m                       Traceback (most recent call last)",
            "\u001b[36mCell\u001b[39m\u001b[36m \u001b[39m\u001b[32mIn[1]\u001b[39m\u001b[32m, line 1\u001b[39m\n\u001b[32m----> \u001b[39m\u001b[32m1\u001b[39m \u001b[38;5;28;01mimport\u001b[39;00m\u001b[38;5;250m \u001b[39m\u001b[34;01mnumpy\u001b[39;00m\u001b[38;5;250m \u001b[39m\u001b[38;5;28;01mas\u001b[39;00m\u001b[38;5;250m \u001b[39m\u001b[34;01mnp\u001b[39;00m\n\u001b[32m      2\u001b[39m \u001b[38;5;66;03m#1. Write a Python program to create a vector of a specified type and length. Create a vector of numeric, complex, logical, and character types of length 6.\u001b[39;00m\n\u001b[32m      4\u001b[39m numeric_vector = np.array([\u001b[32m1.0\u001b[39m, \u001b[32m2.0\u001b[39m, \u001b[32m3.0\u001b[39m, \u001b[32m4.0\u001b[39m, \u001b[32m5.0\u001b[39m, \u001b[32m6.0\u001b[39m], dtype=\u001b[38;5;28mfloat\u001b[39m)\n",
            "\u001b[31mModuleNotFoundError\u001b[39m: No module named 'numpy'"
          ]
        }
      ],
      "source": [
        "import numpy as np\n",
        "#1. Write a Python program to create a vector of a specified type and length. Create a vector of numeric, complex, logical, and character types of length 6.\n",
        "\n",
        "numeric_vector = np.array([1.0, 2.0, 3.0, 4.0, 5.0, 6.0], dtype=float)\n",
        "print('numberic_vector:',numeric_vector)\n",
        "complex_vector = np.array([1+1j, 2+2j, 3+3j, 4+4j, 5+5j, 6+6j], dtype=complex)\n",
        "print('complex_vector:',complex_vector)\n",
        "\n",
        "logical_vector = np.array([True, False, True, False, True, False], dtype=bool)\n",
        "print('logical_vector:',logical_vector)\n",
        "character_vector = np.array(['a', 'b', 'c', 'd', 'e', 'f'], dtype=str)\n",
        "print('character_vector:',character_vector)\n",
        "\n",
        "\n",
        "\n",
        "\n",
        "\n",
        "\n",
        "\n",
        "\n",
        "\n",
        "\n",
        "\n",
        "\n",
        "\n",
        "\n",
        "\n",
        "\n",
        "\n",
        "\n",
        "\n",
        "\n",
        "\n",
        "\n",
        "\n",
        "\n",
        "\n",
        "\n",
        "\n"
      ]
    },
    {
      "cell_type": "code",
      "execution_count": null,
      "metadata": {
        "colab": {
          "base_uri": "https://localhost:8080/"
        },
        "id": "t4-Wh6LzyWcv",
        "outputId": "f2741066-adc1-4051-b9f1-7af3a0939547"
      },
      "outputs": [
        {
          "name": "stdout",
          "output_type": "stream",
          "text": [
            "v1: [1 2 3]\n",
            "v2: [4 5 6]\n",
            "v_sum: [5 7 9]\n"
          ]
        }
      ],
      "source": [
        "#2. Write a Python program to add two vectors of integer type and length 3.\n",
        "\n",
        "v1 = np.array([1, 2, 3], dtype=int)\n",
        "print('v1:',v1)\n",
        "v2 = np.array([4, 5, 6], dtype=int)\n",
        "print('v2:',v2)\n",
        "v_sum = v1 + v2\n",
        "print('v_sum:',v_sum)"
      ]
    },
    {
      "cell_type": "code",
      "execution_count": null,
      "metadata": {
        "colab": {
          "base_uri": "https://localhost:8080/"
        },
        "id": "lSSHPIftyXao",
        "outputId": "bb52c66e-4eac-4d6b-f8ba-b4a539566ab4"
      },
      "outputs": [
        {
          "name": "stdout",
          "output_type": "stream",
          "text": [
            "combined_list: [[1, 2, 3], array([[1, 2],\n",
            "       [3, 4]]), ['x', 'y']]\n",
            "combined_list: [[1, 2, 3], ['x', 'y']]\n"
          ]
        }
      ],
      "source": [
        "# 3. Write a Python program to create a list containing a vector, a matrix, and a list and remove the second element.\n",
        "vec = [1, 2, 3]\n",
        "mat = np.array([[1, 2], [3, 4]])\n",
        "lst = ['x', 'y']\n",
        "combined_list = [vec, mat, lst]\n",
        "print('combined_list:',combined_list)\n",
        "del combined_list[1]\n",
        "print('combined_list:',combined_list)\n"
      ]
    },
    {
      "cell_type": "code",
      "execution_count": null,
      "metadata": {
        "colab": {
          "base_uri": "https://localhost:8080/"
        },
        "id": "dnQtPgVTvfxx",
        "outputId": "b0037bd7-c010-425b-cd96-5d8bdc293b24"
      },
      "outputs": [
        {
          "name": "stdout",
          "output_type": "stream",
          "text": [
            "combined_list: [[1, 2, 3], array([[1, 2],\n",
            "       [3, 4]]), ['updated', 'list']]\n"
          ]
        }
      ],
      "source": [
        "\n",
        "# 4. Write a Python program to create a list containing a vector, a matrix, and a list and update the last element.\n",
        "\n",
        "vec = [1, 2, 3]\n",
        "mat = np.array([[1, 2], [3, 4]])\n",
        "lst = ['x', 'y']\n",
        "combined_list = [vec, mat, lst]\n",
        "combined_list[-1] = ['updated', 'list']\n",
        "print('combined_list:',combined_list)"
      ]
    }
  ],
  "metadata": {
    "colab": {
      "provenance": []
    },
    "kernelspec": {
      "display_name": "Python 3",
      "name": "python3"
    },
    "language_info": {
      "codemirror_mode": {
        "name": "ipython",
        "version": 3
      },
      "file_extension": ".py",
      "mimetype": "text/x-python",
      "name": "python",
      "nbconvert_exporter": "python",
      "pygments_lexer": "ipython3",
      "version": "3.13.3"
    }
  },
  "nbformat": 4,
  "nbformat_minor": 0
}
